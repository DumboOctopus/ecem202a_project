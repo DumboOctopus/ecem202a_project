{
 "cells": [
  {
   "cell_type": "code",
   "execution_count": 75,
   "id": "c8d3206c",
   "metadata": {},
   "outputs": [],
   "source": [
    "from numpy import genfromtxt\n",
    "import numpy as np\n",
    "import matplotlib.pyplot as plt"
   ]
  },
  {
   "cell_type": "code",
   "execution_count": 72,
   "id": "e109d61d",
   "metadata": {},
   "outputs": [],
   "source": [
    "bilinear_416_csv = genfromtxt('data/timing-origin_dataset_bilinear.csv', delimiter=',', dtype=None, encoding=None)\n",
    "bicubic_416_csv = genfromtxt('data/timing-origin-dataset-default.csv', delimiter=',', dtype=None, encoding=None)\n",
    "hamming_416_csv = genfromtxt('data/timing-origin_dataset_hamming.csv', delimiter=',', dtype=None, encoding=None)\n",
    "lanczos_416_csv = genfromtxt('data/timing-origin_dataset_lanczos.csv', delimiter=',', dtype=None, encoding=None)\n",
    "\n",
    "bilinear_256_csv = genfromtxt('data_256/timing-origin_dataset_bilinear.csv', delimiter=',', dtype=None, encoding=None)\n",
    "bicubic_256_csv = genfromtxt('data_256/timing-origin_dataset.csv', delimiter=',', dtype=None, encoding=None)\n",
    "hamming_256_csv = genfromtxt('data_256/timing-origin_dataset_hamming.csv', delimiter=',', dtype=None, encoding=None)\n",
    "lanczos_256_csv = genfromtxt('data_256/timing-origin_dataset_lanczos.csv', delimiter=',', dtype=None, encoding=None)\n",
    "\n",
    "bilinear_128_csv = genfromtxt('data_128/timing-origin_dataset_bilinear_128.csv', delimiter=',', dtype=None, encoding=None)\n",
    "bicubic_128_csv = genfromtxt('data_128/timing-origin_dataset_128.csv', delimiter=',', dtype=None, encoding=None)\n",
    "hamming_128_csv = genfromtxt('data_128/timing-origin_dataset_hamming_128.csv', delimiter=',', dtype=None, encoding=None)\n",
    "lanczos_128_csv = genfromtxt('data_128/timing-origin_dataset_lanczos_128.csv', delimiter=',', dtype=None, encoding=None)\n",
    "\n",
    "combined_data = np.concatenate( (bilinear_416_csv, bicubic_416_csv, hamming_416_csv, lanczos_416_csv,\n",
    "bilinear_256_csv, bicubic_256_csv, hamming_256_csv, lanczos_256_csv,\n",
    "bilinear_128_csv, bicubic_128_csv, hamming_128_csv, lanczos_128_csv ))\n",
    "\n",
    "images_without_cups = [\"1638858312.2182076.jpg\",\n",
    "\"1638858980.1257513.jpg\",\n",
    "\"1638859029.3403072.jpg\",\n",
    "\"1638859059.827174.jpg\",\n",
    "\"1638859082.9124146.jpg\",\n",
    "\"1638859150.8668318.jpg\",\n",
    "\"1638859154.4812253.jpg\",\n",
    "\"1638859400.6757352.jpg\",\n",
    "\"1638859456.9389522.jpg\",\n",
    "\"1638859502.4543705.jpg\",\n",
    "\"1638859540.9344175.jpg\",\n",
    "\"1638859573.0005805.jpg\",\n",
    "\"1638859580.7838762.jpg\",\n",
    "\"1638858280.0541258.jpg\"]"
   ]
  },
  {
   "cell_type": "code",
   "execution_count": 73,
   "id": "9246eb1a",
   "metadata": {},
   "outputs": [
    {
     "data": {
      "text/plain": [
       "array([('1638858998.8664625.jpg', 1.34257841, 0.49499059, 0.72234559, 0.68237829, 0.45775837, 10080),\n",
       "       ('1638858998.8664625.jpg', 2.61680722, 0.44036603, 0.77007174, 0.7008388 , 0.45775837, 10080),\n",
       "       ('1638858998.8664625.jpg', 1.27978849, 0.43973947, 0.74786425, 0.70721817, 0.45775837, 10080),\n",
       "       ...,\n",
       "       ('1638859483.8107712.jpg', 1.37722778, 0.56043148, 0.74472451, 0.67235756, 0.        ,  2249),\n",
       "       ('1638859483.8107712.jpg', 1.37821078, 0.57099056, 0.73560667, 0.69772005, 0.        ,  2249),\n",
       "       ('1638859483.8107712.jpg', 1.37770462, 0.59012532, 0.72140098, 0.67454457, 0.        ,  2249)],\n",
       "      dtype=[('f0', '<U22'), ('f1', '<f8'), ('f2', '<f8'), ('f3', '<f8'), ('f4', '<f8'), ('f5', '<f8'), ('f6', '<i8')])"
      ]
     },
     "execution_count": 73,
     "metadata": {},
     "output_type": "execute_result"
    }
   ],
   "source": [
    "combined_data"
   ]
  },
  {
   "cell_type": "code",
   "execution_count": 23,
   "id": "703f2640",
   "metadata": {},
   "outputs": [],
   "source": [
    "images = set(x[0] for x in lanczos)\n"
   ]
  },
  {
   "cell_type": "code",
   "execution_count": 81,
   "id": "ba6df29a",
   "metadata": {},
   "outputs": [],
   "source": [
    "def average_data(csv):\n",
    "    averaged = {} # key is image, value is array of data but averaged\n",
    "\n",
    "    for i in range(0, len(csv), 5): # row of table\n",
    "        avrg_array = [0]*6\n",
    "        for j in range(1, 7): # column of table\n",
    "            avrg_array[j-1] = np.mean([csv[k][j] for k in range(i, i+5)])\n",
    "        averaged[csv[i][0]] = avrg_array\n",
    "\n",
    "    return averaged\n",
    "\n",
    "def accuracy_series(avrged_data):\n",
    "    return [(value[4] if value[4] != 0 else 1) for value in avrged_data.values()]\n",
    "\n",
    "def median_request_time(csv):\n",
    "    \"\"\"\n",
    "    Assumes data has 5 consecutive entries for same test\n",
    "    \"\"\"\n",
    "    image_list = []\n",
    "    median_request_time = []\n",
    "    for i in range(0, len(csv), 5):\n",
    "        image_list.append(csv[i])\n",
    "        median_request_time.append(\n",
    "            numpy.median([csv[j] for j in range(i, i+5)])\n",
    "        )\n",
    "    return image_list, median_request_time\n"
   ]
  },
  {
   "cell_type": "code",
   "execution_count": 50,
   "id": "16446c05",
   "metadata": {},
   "outputs": [],
   "source": [
    "bilinear_avrg = average_data(bilinear_csv)\n",
    "lanczos_avrg = average_data(lanczos_csv)\n",
    "bicubic_avrg = average_data(bicubic_csv)\n",
    "\n"
   ]
  },
  {
   "cell_type": "code",
   "execution_count": 47,
   "id": "64a78366",
   "metadata": {
    "scrolled": true
   },
   "outputs": [
    {
     "data": {
      "text/plain": [
       "0.5395933216935486"
      ]
     },
     "execution_count": 47,
     "metadata": {},
     "output_type": "execute_result"
    }
   ],
   "source": [
    "np.mean(accuracy_series(lanczos_avrg))"
   ]
  },
  {
   "cell_type": "code",
   "execution_count": 49,
   "id": "d2d9538b",
   "metadata": {},
   "outputs": [
    {
     "data": {
      "text/plain": [
       "0.564786304919355"
      ]
     },
     "execution_count": 49,
     "metadata": {},
     "output_type": "execute_result"
    }
   ],
   "source": [
    "np.mean(accuracy_series(bicubic_avrg))"
   ]
  },
  {
   "cell_type": "code",
   "execution_count": 51,
   "id": "eb712a45",
   "metadata": {},
   "outputs": [
    {
     "data": {
      "text/plain": [
       "0.5431805930645162"
      ]
     },
     "execution_count": 51,
     "metadata": {},
     "output_type": "execute_result"
    }
   ],
   "source": [
    "np.mean(accuracy_series(bilinear_avrg))"
   ]
  },
  {
   "cell_type": "code",
   "execution_count": 56,
   "id": "035ff710",
   "metadata": {},
   "outputs": [
    {
     "data": {
      "text/plain": [
       "11531.572580645161"
      ]
     },
     "execution_count": 56,
     "metadata": {},
     "output_type": "execute_result"
    }
   ],
   "source": [
    "np.mean([value[5] for value in bicubic_avrg.values()])"
   ]
  },
  {
   "cell_type": "code",
   "execution_count": 57,
   "id": "eb3cc455",
   "metadata": {},
   "outputs": [
    {
     "data": {
      "text/plain": [
       "11059.016129032258"
      ]
     },
     "execution_count": 57,
     "metadata": {},
     "output_type": "execute_result"
    }
   ],
   "source": [
    "np.mean([value[5] for value in lanczos_avrg.values()])"
   ]
  },
  {
   "cell_type": "code",
   "execution_count": 58,
   "id": "6de67781",
   "metadata": {},
   "outputs": [
    {
     "data": {
      "text/plain": [
       "10454.483870967742"
      ]
     },
     "execution_count": 58,
     "metadata": {},
     "output_type": "execute_result"
    }
   ],
   "source": [
    "np.mean([value[5] for value in bilinear_avrg.values()])"
   ]
  },
  {
   "cell_type": "code",
   "execution_count": 80,
   "id": "6ecd4c65",
   "metadata": {},
   "outputs": [
    {
     "data": {
      "text/plain": [
       "<matplotlib.collections.PathCollection at 0x7fe8875d0a90>"
      ]
     },
     "execution_count": 80,
     "metadata": {},
     "output_type": "execute_result"
    },
    {
     "data": {
      "image/png": "[encoded data removed]",
      "text/plain": [
       "<Figure size 432x288 with 1 Axes>"
      ]
     },
     "metadata": {
      "needs_background": "light"
     },
     "output_type": "display_data"
    }
   ],
   "source": [
    "image_sizes = [x[6] for x in combined_data]\n",
    "request_times = [x[3] for x in combined_data]\n",
    "\n",
    "plt.scatter(image_sizes, request_times, s=2)"
   ]
  },
  {
   "cell_type": "code",
   "execution_count": null,
   "id": "9e30f551",
   "metadata": {},
   "outputs": [],
   "source": []
  }
 ],
 "metadata": {
  "kernelspec": {
   "display_name": "Python 3",
   "language": "python",
   "name": "python3"
  },
  "language_info": {
   "codemirror_mode": {
    "name": "ipython",
    "version": 3
   },
   "file_extension": ".py",
   "mimetype": "text/x-python",
   "name": "python",
   "nbconvert_exporter": "python",
   "pygments_lexer": "ipython3",
   "version": "3.8.10"
  }
 },
 "nbformat": 4,
 "nbformat_minor": 5
}
